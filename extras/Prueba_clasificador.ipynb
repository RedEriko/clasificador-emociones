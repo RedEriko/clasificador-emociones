{
  "nbformat": 4,
  "nbformat_minor": 0,
  "metadata": {
    "colab": {
      "provenance": [],
      "gpuType": "V28"
    },
    "kernelspec": {
      "name": "python3",
      "display_name": "Python 3"
    },
    "language_info": {
      "name": "python"
    },
    "accelerator": "TPU"
  },
  "cells": [
    {
      "cell_type": "code",
      "source": [
        "# Instalación de bibliotecas\n",
        "!pip install tensorflow pandas matplotlib opencv-python scikit-learn\n"
      ],
      "metadata": {
        "colab": {
          "base_uri": "https://localhost:8080/"
        },
        "id": "30i74QiG1K7s",
        "outputId": "662d6316-889b-4156-d152-1ba04a646cd0"
      },
      "execution_count": 1,
      "outputs": [
        {
          "output_type": "stream",
          "name": "stdout",
          "text": [
            "Requirement already satisfied: tensorflow in /usr/local/lib/python3.10/dist-packages (2.17.1)\n",
            "Requirement already satisfied: pandas in /usr/local/lib/python3.10/dist-packages (2.2.2)\n",
            "Requirement already satisfied: matplotlib in /usr/local/lib/python3.10/dist-packages (3.8.0)\n",
            "Requirement already satisfied: opencv-python in /usr/local/lib/python3.10/dist-packages (4.10.0.84)\n",
            "Requirement already satisfied: scikit-learn in /usr/local/lib/python3.10/dist-packages (1.5.2)\n",
            "Requirement already satisfied: absl-py>=1.0.0 in /usr/local/lib/python3.10/dist-packages (from tensorflow) (1.4.0)\n",
            "Requirement already satisfied: astunparse>=1.6.0 in /usr/local/lib/python3.10/dist-packages (from tensorflow) (1.6.3)\n",
            "Requirement already satisfied: flatbuffers>=24.3.25 in /usr/local/lib/python3.10/dist-packages (from tensorflow) (24.3.25)\n",
            "Requirement already satisfied: gast!=0.5.0,!=0.5.1,!=0.5.2,>=0.2.1 in /usr/local/lib/python3.10/dist-packages (from tensorflow) (0.6.0)\n",
            "Requirement already satisfied: google-pasta>=0.1.1 in /usr/local/lib/python3.10/dist-packages (from tensorflow) (0.2.0)\n",
            "Requirement already satisfied: h5py>=3.10.0 in /usr/local/lib/python3.10/dist-packages (from tensorflow) (3.12.1)\n",
            "Requirement already satisfied: libclang>=13.0.0 in /usr/local/lib/python3.10/dist-packages (from tensorflow) (18.1.1)\n",
            "Requirement already satisfied: ml-dtypes<0.5.0,>=0.3.1 in /usr/local/lib/python3.10/dist-packages (from tensorflow) (0.4.1)\n",
            "Requirement already satisfied: opt-einsum>=2.3.2 in /usr/local/lib/python3.10/dist-packages (from tensorflow) (3.4.0)\n",
            "Requirement already satisfied: packaging in /usr/local/lib/python3.10/dist-packages (from tensorflow) (24.2)\n",
            "Requirement already satisfied: protobuf!=4.21.0,!=4.21.1,!=4.21.2,!=4.21.3,!=4.21.4,!=4.21.5,<5.0.0dev,>=3.20.3 in /usr/local/lib/python3.10/dist-packages (from tensorflow) (4.25.5)\n",
            "Requirement already satisfied: requests<3,>=2.21.0 in /usr/local/lib/python3.10/dist-packages (from tensorflow) (2.32.3)\n",
            "Requirement already satisfied: setuptools in /usr/local/lib/python3.10/dist-packages (from tensorflow) (75.1.0)\n",
            "Requirement already satisfied: six>=1.12.0 in /usr/local/lib/python3.10/dist-packages (from tensorflow) (1.17.0)\n",
            "Requirement already satisfied: termcolor>=1.1.0 in /usr/local/lib/python3.10/dist-packages (from tensorflow) (2.5.0)\n",
            "Requirement already satisfied: typing-extensions>=3.6.6 in /usr/local/lib/python3.10/dist-packages (from tensorflow) (4.12.2)\n",
            "Requirement already satisfied: wrapt>=1.11.0 in /usr/local/lib/python3.10/dist-packages (from tensorflow) (1.17.0)\n",
            "Requirement already satisfied: grpcio<2.0,>=1.24.3 in /usr/local/lib/python3.10/dist-packages (from tensorflow) (1.68.1)\n",
            "Requirement already satisfied: tensorboard<2.18,>=2.17 in /usr/local/lib/python3.10/dist-packages (from tensorflow) (2.17.1)\n",
            "Requirement already satisfied: keras>=3.2.0 in /usr/local/lib/python3.10/dist-packages (from tensorflow) (3.5.0)\n",
            "Requirement already satisfied: tensorflow-io-gcs-filesystem>=0.23.1 in /usr/local/lib/python3.10/dist-packages (from tensorflow) (0.37.1)\n",
            "Requirement already satisfied: numpy<2.0.0,>=1.23.5 in /usr/local/lib/python3.10/dist-packages (from tensorflow) (1.26.4)\n",
            "Requirement already satisfied: python-dateutil>=2.8.2 in /usr/local/lib/python3.10/dist-packages (from pandas) (2.8.2)\n",
            "Requirement already satisfied: pytz>=2020.1 in /usr/local/lib/python3.10/dist-packages (from pandas) (2024.2)\n",
            "Requirement already satisfied: tzdata>=2022.7 in /usr/local/lib/python3.10/dist-packages (from pandas) (2024.2)\n",
            "Requirement already satisfied: contourpy>=1.0.1 in /usr/local/lib/python3.10/dist-packages (from matplotlib) (1.3.1)\n",
            "Requirement already satisfied: cycler>=0.10 in /usr/local/lib/python3.10/dist-packages (from matplotlib) (0.12.1)\n",
            "Requirement already satisfied: fonttools>=4.22.0 in /usr/local/lib/python3.10/dist-packages (from matplotlib) (4.55.3)\n",
            "Requirement already satisfied: kiwisolver>=1.0.1 in /usr/local/lib/python3.10/dist-packages (from matplotlib) (1.4.7)\n",
            "Requirement already satisfied: pillow>=6.2.0 in /usr/local/lib/python3.10/dist-packages (from matplotlib) (11.0.0)\n",
            "Requirement already satisfied: pyparsing>=2.3.1 in /usr/local/lib/python3.10/dist-packages (from matplotlib) (3.2.0)\n",
            "Requirement already satisfied: scipy>=1.6.0 in /usr/local/lib/python3.10/dist-packages (from scikit-learn) (1.13.1)\n",
            "Requirement already satisfied: joblib>=1.2.0 in /usr/local/lib/python3.10/dist-packages (from scikit-learn) (1.4.2)\n",
            "Requirement already satisfied: threadpoolctl>=3.1.0 in /usr/local/lib/python3.10/dist-packages (from scikit-learn) (3.5.0)\n",
            "Requirement already satisfied: wheel<1.0,>=0.23.0 in /usr/local/lib/python3.10/dist-packages (from astunparse>=1.6.0->tensorflow) (0.45.1)\n",
            "Requirement already satisfied: rich in /usr/local/lib/python3.10/dist-packages (from keras>=3.2.0->tensorflow) (13.9.4)\n",
            "Requirement already satisfied: namex in /usr/local/lib/python3.10/dist-packages (from keras>=3.2.0->tensorflow) (0.0.8)\n",
            "Requirement already satisfied: optree in /usr/local/lib/python3.10/dist-packages (from keras>=3.2.0->tensorflow) (0.13.1)\n",
            "Requirement already satisfied: charset-normalizer<4,>=2 in /usr/local/lib/python3.10/dist-packages (from requests<3,>=2.21.0->tensorflow) (3.4.0)\n",
            "Requirement already satisfied: idna<4,>=2.5 in /usr/local/lib/python3.10/dist-packages (from requests<3,>=2.21.0->tensorflow) (3.10)\n",
            "Requirement already satisfied: urllib3<3,>=1.21.1 in /usr/local/lib/python3.10/dist-packages (from requests<3,>=2.21.0->tensorflow) (2.2.3)\n",
            "Requirement already satisfied: certifi>=2017.4.17 in /usr/local/lib/python3.10/dist-packages (from requests<3,>=2.21.0->tensorflow) (2024.8.30)\n",
            "Requirement already satisfied: markdown>=2.6.8 in /usr/local/lib/python3.10/dist-packages (from tensorboard<2.18,>=2.17->tensorflow) (3.7)\n",
            "Requirement already satisfied: tensorboard-data-server<0.8.0,>=0.7.0 in /usr/local/lib/python3.10/dist-packages (from tensorboard<2.18,>=2.17->tensorflow) (0.7.2)\n",
            "Requirement already satisfied: werkzeug>=1.0.1 in /usr/local/lib/python3.10/dist-packages (from tensorboard<2.18,>=2.17->tensorflow) (3.1.3)\n",
            "Requirement already satisfied: MarkupSafe>=2.1.1 in /usr/local/lib/python3.10/dist-packages (from werkzeug>=1.0.1->tensorboard<2.18,>=2.17->tensorflow) (3.0.2)\n",
            "Requirement already satisfied: markdown-it-py>=2.2.0 in /usr/local/lib/python3.10/dist-packages (from rich->keras>=3.2.0->tensorflow) (3.0.0)\n",
            "Requirement already satisfied: pygments<3.0.0,>=2.13.0 in /usr/local/lib/python3.10/dist-packages (from rich->keras>=3.2.0->tensorflow) (2.18.0)\n",
            "Requirement already satisfied: mdurl~=0.1 in /usr/local/lib/python3.10/dist-packages (from markdown-it-py>=2.2.0->rich->keras>=3.2.0->tensorflow) (0.1.2)\n"
          ]
        }
      ]
    },
    {
      "cell_type": "code",
      "execution_count": 1,
      "metadata": {
        "colab": {
          "base_uri": "https://localhost:8080/"
        },
        "id": "YWU883Bg1FTX",
        "outputId": "f1075d57-52ac-470d-838f-f4f458b944b5"
      },
      "outputs": [
        {
          "output_type": "stream",
          "name": "stdout",
          "text": [
            "mv: cannot stat 'kaggle.json': No such file or directory\n"
          ]
        }
      ],
      "source": [
        "import os\n",
        "os.environ['KAGGLE_CONFIG_DIR'] = \"/root/.kaggle\"\n",
        "!mkdir -p /root/.kaggle\n",
        "!mv kaggle.json /root/.kaggle/"
      ]
    },
    {
      "cell_type": "code",
      "source": [
        "!kaggle datasets download -d msambare/fer2013\n",
        "!kaggle datasets download -d tapakah68/facial-emotion-recognition\n",
        "!kaggle datasets download -d dilkushsingh/facial-emotion-dataset\n",
        "!kaggle datasets download -d samaneheslamifar/facial-emotion-expressions\n",
        "!kaggle datasets download -d missaouimohamedamine/face-emotion-dataset\n"
      ],
      "metadata": {
        "colab": {
          "base_uri": "https://localhost:8080/"
        },
        "id": "z-jAIsiC1d0g",
        "outputId": "f8a549ae-c5fe-45f6-e00b-31109050f5a6"
      },
      "execution_count": 2,
      "outputs": [
        {
          "output_type": "stream",
          "name": "stdout",
          "text": [
            "Dataset URL: https://www.kaggle.com/datasets/msambare/fer2013\n",
            "License(s): DbCL-1.0\n",
            "Downloading fer2013.zip to /content\n",
            " 80% 48.0M/60.3M [00:00<00:00, 267MB/s]\n",
            "100% 60.3M/60.3M [00:00<00:00, 246MB/s]\n",
            "Dataset URL: https://www.kaggle.com/datasets/tapakah68/facial-emotion-recognition\n",
            "License(s): Attribution-NonCommercial-NoDerivatives 4.0 International (CC BY-NC-ND 4.0)\n",
            "Downloading facial-emotion-recognition.zip to /content\n",
            " 97% 421M/433M [00:01<00:00, 277MB/s]\n",
            "100% 433M/433M [00:01<00:00, 253MB/s]\n",
            "Dataset URL: https://www.kaggle.com/datasets/dilkushsingh/facial-emotion-dataset\n",
            "License(s): Attribution 4.0 International (CC BY 4.0)\n",
            "Downloading facial-emotion-dataset.zip to /content\n",
            " 68% 41.0M/60.7M [00:00<00:00, 236MB/s] \n",
            "100% 60.7M/60.7M [00:00<00:00, 252MB/s]\n",
            "Dataset URL: https://www.kaggle.com/datasets/samaneheslamifar/facial-emotion-expressions\n",
            "License(s): unknown\n",
            "Downloading facial-emotion-expressions.zip to /content\n",
            " 97% 117M/121M [00:00<00:00, 256MB/s] \n",
            "100% 121M/121M [00:00<00:00, 252MB/s]\n",
            "Dataset URL: https://www.kaggle.com/datasets/missaouimohamedamine/face-emotion-dataset\n",
            "License(s): apache-2.0\n",
            "Downloading face-emotion-dataset.zip to /content\n",
            " 76% 93.0M/123M [00:00<00:00, 202MB/s]\n",
            "100% 123M/123M [00:00<00:00, 201MB/s] \n"
          ]
        }
      ]
    },
    {
      "cell_type": "code",
      "source": [
        "#Descomprimimos los archivos\n",
        "import zipfile\n",
        "import os\n",
        "\n",
        "download_dir = '/content/'\n",
        "\n",
        "zip_files = [f for f in os.listdir(download_dir) if f.endswith('.zip')]\n",
        "\n",
        "for zip_file in zip_files:\n",
        "    zip_path = os.path.join(download_dir, zip_file)\n",
        "    extract_dir = os.path.join(download_dir, zip_file.replace('.zip', ''))\n",
        "    os.makedirs(extract_dir, exist_ok=True)\n",
        "\n",
        "    with zipfile.ZipFile(zip_path, 'r') as zip_ref:\n",
        "        zip_ref.extractall(extract_dir)  # Extraer todos los archivos\n",
        "    print(f\"Descomprimido: {zip_file} en {extract_dir}\")\n"
      ],
      "metadata": {
        "colab": {
          "base_uri": "https://localhost:8080/"
        },
        "id": "DPqcQJ4s1inK",
        "outputId": "3159e6e3-fc7a-4817-c0d1-f8f19317b457"
      },
      "execution_count": 3,
      "outputs": [
        {
          "output_type": "stream",
          "name": "stdout",
          "text": [
            "Descomprimido: facial-emotion-expressions.zip en /content/facial-emotion-expressions\n",
            "Descomprimido: facial-emotion-dataset.zip en /content/facial-emotion-dataset\n",
            "Descomprimido: face-emotion-dataset.zip en /content/face-emotion-dataset\n",
            "Descomprimido: fer2013.zip en /content/fer2013\n",
            "Descomprimido: facial-emotion-recognition.zip en /content/facial-emotion-recognition\n"
          ]
        }
      ]
    },
    {
      "cell_type": "code",
      "source": [
        "# Mapeo de las etiquetas a las nuevas categorías numeradas\n",
        "label_mapping = {\n",
        "    'angry': 0,       # angry -> 0\n",
        "    'neutral': 1,      # neutral -> 1\n",
        "    'disgust': 2,      # disgust -> 2\n",
        "    'fear': 3,         # fear -> 3\n",
        "    'happy': 4,        # happy -> 4\n",
        "    'sad': 5,      # sad -> 5\n",
        "    'surprise': 6,     # surprise -> 6\n",
        "}"
      ],
      "metadata": {
        "id": "S-Befbhl1k5s"
      },
      "execution_count": 4,
      "outputs": []
    },
    {
      "cell_type": "code",
      "source": [
        "#Función para cargar imágenes\n",
        "import os\n",
        "import pandas as pd\n",
        "\n",
        "# Función para cargar imágenes y etiquetarlas\n",
        "def load_images_and_labels(dataset_path, label_mapping):\n",
        "    image_paths = []\n",
        "    labels = []\n",
        "\n",
        "    # Recorrer las carpetas dentro del dataset\n",
        "    for class_folder in os.listdir(dataset_path):\n",
        "        class_path = os.path.join(dataset_path, class_folder)\n",
        "\n",
        "        # Asegurarse de que es una carpeta (no un archivo)\n",
        "        if os.path.isdir(class_path):\n",
        "            # Normalizar el nombre de la carpeta a minúsculas\n",
        "            normalized_class_folder = class_folder.lower()\n",
        "\n",
        "            # Si la carpeta pertenece a alguna de las categorías con nombre variable\n",
        "            if normalized_class_folder in ['angry', 'anger']:\n",
        "                mapped_label = label_mapping['angry']\n",
        "            elif normalized_class_folder in ['sad', 'sadness']:\n",
        "                mapped_label = label_mapping['sad']\n",
        "            elif normalized_class_folder in label_mapping:\n",
        "                mapped_label = label_mapping[normalized_class_folder]\n",
        "            else:\n",
        "                print(f\"Etiqueta no mapeada: {class_folder}\")\n",
        "                continue  # Si no se encuentra en el mapeo, se omite\n",
        "\n",
        "            for img_name in os.listdir(class_path):\n",
        "                img_path = os.path.join(class_path, img_name)\n",
        "                image_paths.append(img_path)\n",
        "                labels.append(mapped_label)\n",
        "\n",
        "    # Crear un DataFrame con las rutas de imágenes y las etiquetas mapeadas\n",
        "    df = pd.DataFrame({'image_path': image_paths, 'label': labels})\n",
        "    return df\n"
      ],
      "metadata": {
        "id": "_qhsEpYq1pBw"
      },
      "execution_count": 5,
      "outputs": []
    },
    {
      "cell_type": "code",
      "source": [
        "#Esto se hace para el dataset que no tiene la misma estructura que los otros\n",
        "#Dataset facial-emotion-recognition\n",
        "# Diccionario de correcciones para los nombres de las imágenes\n",
        "corrections = {\n",
        "    'surprised': 'surprise',  # 'surprised' -> 'surprise'\n",
        "    'anger': 'angry'          # 'anger' -> 'angry'\n",
        "}\n",
        "\n",
        "# Función para cargar imágenes y etiquetarlas\n",
        "def load_images_and_labels_2(dataset_path, label_mapping, corrections):\n",
        "    image_paths = []\n",
        "    labels = []\n",
        "\n",
        "    # Recorrer las carpetas dentro del dataset (cada carpeta es un sujeto)\n",
        "    for subject_folder in os.listdir(dataset_path):\n",
        "        subject_path = os.path.join(dataset_path, subject_folder)\n",
        "\n",
        "        # Asegurarse de que es una carpeta (no un archivo)\n",
        "        if os.path.isdir(subject_path):\n",
        "            for img_name in os.listdir(subject_path):\n",
        "                img_path = os.path.join(subject_path, img_name)\n",
        "\n",
        "                # Usar el nombre de la imagen sin la extensión y convertirlo a minúsculas\n",
        "                img_name_lower = img_name.lower().split('.')[0]\n",
        "\n",
        "                # Corregir el nombre si tiene alguna de las variaciones que deben ser mapeadas\n",
        "                if img_name_lower in corrections:\n",
        "                    img_name_lower = corrections[img_name_lower]\n",
        "\n",
        "                # Buscar el mapeo para la etiqueta\n",
        "                mapped_label = label_mapping.get(img_name_lower, None)\n",
        "                if mapped_label is None:\n",
        "                    print(f\"Etiqueta no mapeada: {img_name_lower} en la carpeta {subject_folder}\")\n",
        "                    continue  # Si la etiqueta no está mapeada, la imagen se omite\n",
        "\n",
        "                image_paths.append(img_path)\n",
        "                labels.append(mapped_label)\n",
        "\n",
        "    # Crear un DataFrame con las rutas de imágenes y las etiquetas mapeadas\n",
        "    df = pd.DataFrame({'image_path': image_paths, 'label': labels})\n",
        "    return df\n",
        "\n"
      ],
      "metadata": {
        "id": "q7lh8DZj1zZD"
      },
      "execution_count": 6,
      "outputs": []
    },
    {
      "cell_type": "code",
      "source": [
        "# Creamos dataframes con las etiquetas y rutas de cada dataset y leugo los unimos\n",
        "dataset_paths = [\n",
        "    '/content/fer2013/test',\n",
        "    '/content/fer2013/train',\n",
        "    '/content/facial-emotion-dataset/test_dir',\n",
        "    '/content/facial-emotion-dataset/train_dir',\n",
        "    '/content/face-emotion-dataset/test',\n",
        "    '/content/face-emotion-dataset/train',\n",
        "    '/content/facial-emotion-expressions/images/images/train',\n",
        "    '/content/facial-emotion-expressions/images/images/validation'\n",
        "\n",
        "]\n",
        "\n",
        "dfs = []\n",
        "for path in dataset_paths:\n",
        "    if path == '/content/facial-emotion-recognition/images':\n",
        "        df = load_images_and_labels_2(path, label_mapping, corrections)\n",
        "    else:\n",
        "        df = load_images_and_labels(path, label_mapping)\n",
        "    dfs.append(df)\n",
        "\n",
        "# Unir todos los DataFrames\n",
        "df_combined = pd.concat(dfs, ignore_index=True)\n",
        "\n",
        "# Verificar la distribución de las etiquetas\n",
        "print(df_combined.head())\n",
        "print(df_combined['label'].value_counts())\n"
      ],
      "metadata": {
        "colab": {
          "base_uri": "https://localhost:8080/"
        },
        "id": "0xgdlBAJ13g4",
        "outputId": "8e71ecc2-9610-4849-db06-17e4e5706500"
      },
      "execution_count": 7,
      "outputs": [
        {
          "output_type": "stream",
          "name": "stdout",
          "text": [
            "                                          image_path  label\n",
            "0  /content/fer2013/test/neutral/PublicTest_69204...      1\n",
            "1  /content/fer2013/test/neutral/PublicTest_93950...      1\n",
            "2  /content/fer2013/test/neutral/PrivateTest_9908...      1\n",
            "3  /content/fer2013/test/neutral/PrivateTest_9183...      1\n",
            "4  /content/fer2013/test/neutral/PrivateTest_2283...      1\n",
            "label\n",
            "4    43950\n",
            "1    31087\n",
            "5    30507\n",
            "3    25049\n",
            "0    24663\n",
            "6    19970\n",
            "2     7849\n",
            "Name: count, dtype: int64\n"
          ]
        }
      ]
    },
    {
      "cell_type": "code",
      "source": [
        "# Verificar si las rutas de las imágenes son correctas\n",
        "for index, row in df_combined.iterrows():\n",
        "    if not os.path.exists(row['image_path']):\n",
        "        print(f\"¡Ruta no válida! {row['image_path']}\")\n"
      ],
      "metadata": {
        "id": "POZP2x8V17ML"
      },
      "execution_count": 8,
      "outputs": []
    },
    {
      "cell_type": "code",
      "source": [
        "import matplotlib.pyplot as plt\n",
        "import seaborn as sns\n",
        "\n",
        "# Obtener los conteos de las categorías\n",
        "conteo_labels = df_combined['label'].value_counts()\n",
        "\n",
        "# Ordenar las categorías (de 0 a 6 en este caso)\n",
        "orden_categorias = list(range(7))  # Crea la lista de categorías en el orden deseado\n",
        "conteo_labels = conteo_labels.reindex(orden_categorias, fill_value=0)  # Reorganiza y rellena con 0 si faltan categorías\n",
        "\n",
        "\n",
        "# Gráfica usando seaborn\n",
        "plt.figure(figsize=(8, 6))\n",
        "sns.barplot(x=conteo_labels.index, y=conteo_labels.values, palette='viridis', order=orden_categorias)\n",
        "plt.title('Cantidad de datos por categoría', fontsize=16)\n",
        "plt.xlabel('Categoría', fontsize=12)\n",
        "plt.ylabel('Cantidad', fontsize=12)\n",
        "plt.xticks(rotation=0)\n",
        "plt.show()\n"
      ],
      "metadata": {
        "colab": {
          "base_uri": "https://localhost:8080/",
          "height": 681
        },
        "id": "3g6RyG-12Agu",
        "outputId": "686874b2-8ff6-4f42-e2fa-d8f82ea0faac"
      },
      "execution_count": 9,
      "outputs": [
        {
          "output_type": "stream",
          "name": "stderr",
          "text": [
            "<ipython-input-9-704aff9677a4>:14: FutureWarning: \n",
            "\n",
            "Passing `palette` without assigning `hue` is deprecated and will be removed in v0.14.0. Assign the `x` variable to `hue` and set `legend=False` for the same effect.\n",
            "\n",
            "  sns.barplot(x=conteo_labels.index, y=conteo_labels.values, palette='viridis', order=orden_categorias)\n"
          ]
        },
        {
          "output_type": "display_data",
          "data": {
            "text/plain": [
              "<Figure size 800x600 with 1 Axes>"
            ],
            "image/png": "[encoded data removed]"
          },
          "metadata": {}
        }
      ]
    },
    {
      "cell_type": "code",
      "source": [
        "!pip install imgaug"
      ],
      "metadata": {
        "colab": {
          "base_uri": "https://localhost:8080/"
        },
        "id": "YLsWlCni2VWT",
        "outputId": "1406ee79-8807-4769-a3f8-4f2fca7d261a"
      },
      "execution_count": 12,
      "outputs": [
        {
          "output_type": "stream",
          "name": "stdout",
          "text": [
            "Collecting imgaug\n",
            "  Downloading imgaug-0.4.0-py2.py3-none-any.whl.metadata (1.8 kB)\n",
            "Requirement already satisfied: six in /usr/local/lib/python3.10/dist-packages (from imgaug) (1.17.0)\n",
            "Requirement already satisfied: numpy>=1.15 in /usr/local/lib/python3.10/dist-packages (from imgaug) (1.26.4)\n",
            "Requirement already satisfied: scipy in /usr/local/lib/python3.10/dist-packages (from imgaug) (1.13.1)\n",
            "Requirement already satisfied: Pillow in /usr/local/lib/python3.10/dist-packages (from imgaug) (11.0.0)\n",
            "Requirement already satisfied: matplotlib in /usr/local/lib/python3.10/dist-packages (from imgaug) (3.8.0)\n",
            "Requirement already satisfied: scikit-image>=0.14.2 in /usr/local/lib/python3.10/dist-packages (from imgaug) (0.24.0)\n",
            "Requirement already satisfied: opencv-python in /usr/local/lib/python3.10/dist-packages (from imgaug) (4.10.0.84)\n",
            "Requirement already satisfied: imageio in /usr/local/lib/python3.10/dist-packages (from imgaug) (2.36.1)\n",
            "Collecting Shapely (from imgaug)\n",
            "  Downloading shapely-2.0.6-cp310-cp310-manylinux_2_17_x86_64.manylinux2014_x86_64.whl.metadata (7.0 kB)\n",
            "Requirement already satisfied: networkx>=2.8 in /usr/local/lib/python3.10/dist-packages (from scikit-image>=0.14.2->imgaug) (3.4.2)\n",
            "Requirement already satisfied: tifffile>=2022.8.12 in /usr/local/lib/python3.10/dist-packages (from scikit-image>=0.14.2->imgaug) (2024.9.20)\n",
            "Requirement already satisfied: packaging>=21 in /usr/local/lib/python3.10/dist-packages (from scikit-image>=0.14.2->imgaug) (24.2)\n",
            "Requirement already satisfied: lazy-loader>=0.4 in /usr/local/lib/python3.10/dist-packages (from scikit-image>=0.14.2->imgaug) (0.4)\n",
            "Requirement already satisfied: contourpy>=1.0.1 in /usr/local/lib/python3.10/dist-packages (from matplotlib->imgaug) (1.3.1)\n",
            "Requirement already satisfied: cycler>=0.10 in /usr/local/lib/python3.10/dist-packages (from matplotlib->imgaug) (0.12.1)\n",
            "Requirement already satisfied: fonttools>=4.22.0 in /usr/local/lib/python3.10/dist-packages (from matplotlib->imgaug) (4.55.3)\n",
            "Requirement already satisfied: kiwisolver>=1.0.1 in /usr/local/lib/python3.10/dist-packages (from matplotlib->imgaug) (1.4.7)\n",
            "Requirement already satisfied: pyparsing>=2.3.1 in /usr/local/lib/python3.10/dist-packages (from matplotlib->imgaug) (3.2.0)\n",
            "Requirement already satisfied: python-dateutil>=2.7 in /usr/local/lib/python3.10/dist-packages (from matplotlib->imgaug) (2.9.0.post0)\n",
            "Downloading imgaug-0.4.0-py2.py3-none-any.whl (948 kB)\n",
            "\u001b[2K   \u001b[90m━━━━━━━━━━━━━━━━━━━━━━━━━━━━━━━━━━━━━━━━\u001b[0m \u001b[32m948.0/948.0 kB\u001b[0m \u001b[31m13.3 MB/s\u001b[0m eta \u001b[36m0:00:00\u001b[0m\n",
            "\u001b[?25hDownloading shapely-2.0.6-cp310-cp310-manylinux_2_17_x86_64.manylinux2014_x86_64.whl (2.5 MB)\n",
            "\u001b[2K   \u001b[90m━━━━━━━━━━━━━━━━━━━━━━━━━━━━━━━━━━━━━━━━\u001b[0m \u001b[32m2.5/2.5 MB\u001b[0m \u001b[31m59.8 MB/s\u001b[0m eta \u001b[36m0:00:00\u001b[0m\n",
            "\u001b[?25hInstalling collected packages: Shapely, imgaug\n",
            "Successfully installed Shapely-2.0.6 imgaug-0.4.0\n"
          ]
        }
      ]
    },
    {
      "cell_type": "code",
      "source": [
        "from imgaug import augmenters as iaa\n",
        "import numpy as np\n",
        "import cv2\n",
        "import os\n",
        "\n",
        "def load_and_preprocess_images(df, img_size=(48, 48), augment=False):\n",
        "    images = []\n",
        "    labels = []\n",
        "\n",
        "    # Configurar augmenters\n",
        "    aug = iaa.Sequential([\n",
        "        iaa.Affine(rotate=(-15, 15)),\n",
        "        iaa.Fliplr(0.5),\n",
        "        iaa.Multiply((0.8, 1.2)),\n",
        "    ]) if augment else None\n",
        "\n",
        "    for _, row in df.iterrows():\n",
        "        if not os.path.exists(row['image_path']):\n",
        "            print(f\"Imagen no encontrada: {row['image_path']}\")\n",
        "            continue\n",
        "\n",
        "        # Leer la imagen\n",
        "        img = cv2.imread(row['image_path'])\n",
        "        if img is None:\n",
        "            print(f\"Error al cargar la imagen: {row['image_path']}\")\n",
        "            continue\n",
        "\n",
        "        # Convertir a escala de grises y redimensionar\n",
        "        img = cv2.cvtColor(img, cv2.COLOR_BGR2GRAY)\n",
        "        img = cv2.resize(img, img_size)\n",
        "\n",
        "        # Asegurarse de que la imagen está en formato uint8\n",
        "        img = img.astype(np.uint8)\n",
        "\n",
        "        # Aplicar data augmentation (si está habilitado)\n",
        "        if augment:\n",
        "            img = aug.augment_image(img)\n",
        "\n",
        "        # Normalizar la imagen (convertir a float después de augmentación)\n",
        "        img = img / 255.0\n",
        "\n",
        "        images.append(img)\n",
        "        labels.append(row['label'])\n",
        "\n",
        "    # Convertir a numpy arrays\n",
        "    images = np.array(images).reshape(-1, img_size[0], img_size[1], 1)\n",
        "    labels = np.array(labels)\n",
        "\n",
        "    return images, labels"
      ],
      "metadata": {
        "id": "Zak1qjL_2Cgn"
      },
      "execution_count": 13,
      "outputs": []
    },
    {
      "cell_type": "code",
      "source": [
        "import os\n",
        "import pandas as pd\n",
        "from tensorflow.keras.preprocessing.image import ImageDataGenerator\n",
        "import cv2\n",
        "import numpy as np\n",
        "\n",
        "# Configura las transformaciones\n",
        "datagen = ImageDataGenerator(\n",
        "    rotation_range=20,\n",
        "    width_shift_range=0.2,\n",
        "    height_shift_range=0.2,\n",
        "    shear_range=0.2,\n",
        "    zoom_range=0.2,\n",
        "    horizontal_flip=True,\n",
        "    fill_mode='nearest'\n",
        ")\n",
        "\n",
        "# Filtra las imágenes de la clase 2\n",
        "df_class_2 = df_combined[df_combined['label'] == 2]\n",
        "\n",
        "# Directorio de salida para las imágenes aumentadas\n",
        "output_dir = \"augmented_class_2\"\n",
        "os.makedirs(output_dir, exist_ok=True)\n",
        "\n",
        "# Tamaño de las imágenes (ajustar si es diferente)\n",
        "img_size = (48, 48)\n",
        "\n",
        "# Número de imágenes aumentadas por ejemplo original\n",
        "n_augmentations = 5\n",
        "\n",
        "for index, row in df_class_2.iterrows():\n",
        "    img_path = row['image_path']\n",
        "\n",
        "    # Cargar la imagen original\n",
        "    img = cv2.imread(img_path, cv2.IMREAD_GRAYSCALE)\n",
        "    if img is None:\n",
        "        print(f\"Error al cargar la imagen: {img_path}\")\n",
        "        continue\n",
        "\n",
        "    # Redimensionar si es necesario\n",
        "    img = cv2.resize(img, img_size)\n",
        "\n",
        "    # Expandir dimensión para adaptarse a ImageDataGenerator\n",
        "    img = np.expand_dims(img, axis=-1)\n",
        "    img = np.expand_dims(img, axis=0)  # (1, img_size[0], img_size[1], 1)\n",
        "\n",
        "    # Generar imágenes aumentadas\n",
        "    i = 0\n",
        "    for batch in datagen.flow(img, batch_size=1, save_to_dir=output_dir,\n",
        "                              save_prefix='class_3', save_format='png'):\n",
        "        i += 1\n",
        "        if i >= n_augmentations:\n",
        "            break  # Limitar el número de augmentaciones por imagen\n",
        "\n",
        "print(f\"Datos aumentados guardados en: {output_dir}\")\n"
      ],
      "metadata": {
        "colab": {
          "base_uri": "https://localhost:8080/"
        },
        "id": "p1OtoLNx2azx",
        "outputId": "05c50f17-53e9-4d9f-d921-d2b6b867df89"
      },
      "execution_count": 14,
      "outputs": [
        {
          "output_type": "stream",
          "name": "stdout",
          "text": [
            "Datos aumentados guardados en: augmented_class_2\n"
          ]
        }
      ]
    },
    {
      "cell_type": "code",
      "source": [
        "import glob\n",
        "\n",
        "# Obtener los nuevos paths de las imágenes aumentadas\n",
        "augmented_images = glob.glob(os.path.join(output_dir, \"*.png\"))\n",
        "\n",
        "# Crear un nuevo dataframe para las imágenes aumentadas\n",
        "df_augmented = pd.DataFrame({\n",
        "    'image_path': augmented_images,\n",
        "    'label': 2  # Etiqueta correspondiente\n",
        "})\n",
        "\n",
        "# Concatenar con el dataset original\n",
        "df_new = pd.concat([df_combined, df_augmented], ignore_index=True)\n"
      ],
      "metadata": {
        "id": "K4wM4VdV2fPT"
      },
      "execution_count": 15,
      "outputs": []
    },
    {
      "cell_type": "code",
      "source": [
        "# Verificar la distribución de las etiquetas\n",
        "print(df_new['label'].value_counts())"
      ],
      "metadata": {
        "colab": {
          "base_uri": "https://localhost:8080/"
        },
        "id": "vnNCYQ8F2rjc",
        "outputId": "4b741aa8-c635-4ce4-c7bb-1eef73bd61f8"
      },
      "execution_count": 16,
      "outputs": [
        {
          "output_type": "stream",
          "name": "stdout",
          "text": [
            "label\n",
            "4    43950\n",
            "1    31087\n",
            "5    30507\n",
            "3    25049\n",
            "0    24663\n",
            "6    19970\n",
            "2    17659\n",
            "Name: count, dtype: int64\n"
          ]
        }
      ]
    },
    {
      "cell_type": "code",
      "source": [
        "from sklearn.utils import resample\n",
        "\n",
        "# Crear un DataFrame para cada clase\n",
        "dfs = [df_new[df_new['label'] == label] for label in df_new['label'].unique()]\n",
        "\n",
        "# Igualar al tamaño de la clase más pequeña\n",
        "min_size = min(len(df) for df in dfs)\n",
        "dfs_resampled = [resample(df, replace=False, n_samples=min_size, random_state=42) for df in dfs]\n",
        "\n",
        "# Reunir las clases balanceadas\n",
        "df_balanced = pd.concat(dfs_resampled)\n",
        "\n",
        "# Verificar las nuevas distribuciones\n",
        "print(df_balanced['label'].value_counts())\n"
      ],
      "metadata": {
        "colab": {
          "base_uri": "https://localhost:8080/"
        },
        "id": "53193Oxl2xxK",
        "outputId": "dd451c44-4ea3-4d76-ac26-d079e089ebcb"
      },
      "execution_count": 17,
      "outputs": [
        {
          "output_type": "stream",
          "name": "stdout",
          "text": [
            "label\n",
            "1    17659\n",
            "0    17659\n",
            "3    17659\n",
            "6    17659\n",
            "5    17659\n",
            "4    17659\n",
            "2    17659\n",
            "Name: count, dtype: int64\n"
          ]
        }
      ]
    },
    {
      "cell_type": "code",
      "source": [
        "# Dividir en entrenamiento (60%), validación (20%) y prueba (20%)\n",
        "import cv2\n",
        "import numpy as np\n",
        "from sklearn.model_selection import train_test_split\n",
        "\n",
        "def load_and_preprocess_images(df, img_size=(48, 48)):\n",
        "    images = []\n",
        "    labels = []\n",
        "\n",
        "    for index, row in df.iterrows():\n",
        "        # Verificar si la imagen existe\n",
        "        if not os.path.exists(row['image_path']):\n",
        "            print(f\"Imagen no encontrada: {row['image_path']}\")\n",
        "            continue  # Salta a la siguiente imagen\n",
        "\n",
        "        # Cargar la imagen\n",
        "        img = cv2.imread(row['image_path'])\n",
        "\n",
        "        if img is None:\n",
        "            print(f\"Error al cargar la imagen: {row['image_path']}\")\n",
        "            continue  # Salta a la siguiente imagen\n",
        "\n",
        "        # Convertir la imagen a escala de grises\n",
        "        img = cv2.cvtColor(img, cv2.COLOR_BGR2GRAY)\n",
        "\n",
        "        # Redimensionar la imagen\n",
        "        img = cv2.resize(img, img_size)\n",
        "\n",
        "        # Normalizar la imagen\n",
        "        img = img / 255.0\n",
        "\n",
        "        images.append(img)\n",
        "        labels.append(row['label'])\n",
        "\n",
        "    # Convertir a arrays de numpy\n",
        "    images = np.array(images)\n",
        "    labels = np.array(labels)\n",
        "\n",
        "    # Para la compatibilidad con CNN\n",
        "    images = images.reshape(-1, img_size[0], img_size[1], 1)  # Para imágenes en escala de grises\n",
        "\n",
        "    return images, labels\n",
        "\n",
        "# Cargar y preprocesar las imágenes y etiquetas\n",
        "images, labels = load_and_preprocess_images(df_balanced)\n",
        "\n",
        "# Dividir en entrenamiento (60%), validación (20%) y prueba (20%)\n",
        "X_train, X_temp, y_train, y_temp = train_test_split(images, labels, test_size=0.4, random_state=42)\n",
        "X_val, X_test, y_val, y_test = train_test_split(X_temp, y_temp, test_size=0.5, random_state=42)\n",
        "\n",
        "print(f\"Entrenamiento: {len(X_train)} muestras\")\n",
        "print(f\"Validación: {len(X_val)} muestras\")\n",
        "print(f\"Prueba: {len(X_test)} muestras\")"
      ],
      "metadata": {
        "colab": {
          "base_uri": "https://localhost:8080/"
        },
        "id": "RLlTfe-A2zUk",
        "outputId": "114e3658-e1db-4b7e-f52d-ee88de1afee9"
      },
      "execution_count": 18,
      "outputs": [
        {
          "output_type": "stream",
          "name": "stdout",
          "text": [
            "Entrenamiento: 74167 muestras\n",
            "Validación: 24723 muestras\n",
            "Prueba: 24723 muestras\n"
          ]
        }
      ]
    },
    {
      "cell_type": "code",
      "source": [
        "!pip install tensorflow\n",
        "import tensorflow as tf\n",
        "from tensorflow import keras\n",
        "from tensorflow.keras.callbacks import EarlyStopping\n",
        "from tensorflow.keras.models import Sequential\n",
        "from tensorflow.keras.layers import Conv2D, BatchNormalization, Activation, MaxPooling2D, Flatten, Dense, Dropout\n",
        "\n",
        "# Parámetros del modelo\n",
        "input_shape = (48, 48, 1)  # Cambia según las dimensiones de tus imágenes\n",
        "num_classes = 7\n",
        "\n",
        "# Definición del modelo\n",
        "model = Sequential([\n",
        "    # Capa 1: Convolución + BatchNormalization + ReLU + MaxPooling\n",
        "    Conv2D(32, (3, 3), padding='same', input_shape=input_shape),\n",
        "    BatchNormalization(),\n",
        "    Activation('relu'),\n",
        "    MaxPooling2D(pool_size=(2, 2)),\n",
        "\n",
        "    # Capa 2: Convolución + BatchNormalization + ReLU + MaxPooling\n",
        "    Conv2D(64, (3, 3), padding='same'),\n",
        "    BatchNormalization(),\n",
        "    Activation('relu'),\n",
        "    MaxPooling2D(pool_size=(2, 2)),\n",
        "\n",
        "    # Capa 3: Convolución + BatchNormalization + ReLU + MaxPooling\n",
        "    Conv2D(128, (3, 3), padding='same'),\n",
        "    BatchNormalization(),\n",
        "    Activation('relu'),\n",
        "    MaxPooling2D(pool_size=(2, 2)),\n",
        "\n",
        "    # Capa 4: Convolución adicional + BatchNormalization + ReLU + MaxPooling\n",
        "    Conv2D(256, (3, 3), padding='same'),\n",
        "    BatchNormalization(),\n",
        "    Activation('relu'),\n",
        "    MaxPooling2D(pool_size=(2, 2)),\n",
        "\n",
        "    # Capa 5: Convolución adicional + BatchNormalization + ReLU + MaxPooling\n",
        "    Conv2D(512, (3, 3), padding='same'),\n",
        "    BatchNormalization(),\n",
        "    Activation('relu'),\n",
        "    MaxPooling2D(pool_size=(2, 2)),\n",
        "\n",
        "    # Capa de aplanamiento\n",
        "    Flatten(),\n",
        "\n",
        "    # Capa completamente conectada\n",
        "    Dense(512),\n",
        "    BatchNormalization(),\n",
        "    Activation('relu'),\n",
        "    Dropout(0.5),  # Regularización\n",
        "\n",
        "    # Capa de salida\n",
        "    Dense(num_classes, activation='softmax')  # Softmax para clasificación\n",
        "])\n",
        "\n",
        "# Compilación del modelo\n",
        "model.compile(\n",
        "    optimizer='adam',\n",
        "    loss='sparse_categorical_crossentropy',\n",
        "    metrics=['accuracy']\n",
        ")\n",
        "\n",
        "# Resumen del modelo\n",
        "model.summary()\n",
        "\n",
        "# Definición del EarlyStopping\n",
        "early_stopping = EarlyStopping(\n",
        "    monitor='val_loss',        # Métrica a monitorear (puede ser 'val_loss' o 'val_accuracy')\n",
        "    patience=3,                # Número de épocas sin mejora antes de detenerse\n",
        "    restore_best_weights=True  # Restaura los pesos del modelo cuando se alcanza el mejor rendimiento\n",
        ")\n",
        "\n",
        "# Entrenamiento del modelo\n",
        "history = model.fit(\n",
        "    X_train, y_train,\n",
        "    validation_data=(X_val, y_val),\n",
        "    epochs=10,  # Número de épocas ajustable\n",
        "    batch_size=32,\n",
        "    verbose=1,\n",
        "    callbacks=[early_stopping]  # Añade el callback de EarlyStopping\n",
        ")\n"
      ],
      "metadata": {
        "colab": {
          "base_uri": "https://localhost:8080/"
        },
        "id": "fOZCjv2D287L",
        "outputId": "4a7fc417-31da-4029-eb64-5e078bde0fce"
      },
      "execution_count": null,
      "outputs": [
        {
          "output_type": "stream",
          "name": "stdout",
          "text": [
            "Requirement already satisfied: tensorflow in /usr/local/lib/python3.10/dist-packages (2.15.0)\n",
            "Requirement already satisfied: absl-py>=1.0.0 in /usr/local/lib/python3.10/dist-packages (from tensorflow) (1.4.0)\n",
            "Requirement already satisfied: astunparse>=1.6.0 in /usr/local/lib/python3.10/dist-packages (from tensorflow) (1.6.3)\n",
            "Requirement already satisfied: flatbuffers>=23.5.26 in /usr/local/lib/python3.10/dist-packages (from tensorflow) (24.3.25)\n",
            "Requirement already satisfied: gast!=0.5.0,!=0.5.1,!=0.5.2,>=0.2.1 in /usr/local/lib/python3.10/dist-packages (from tensorflow) (0.6.0)\n",
            "Requirement already satisfied: google-pasta>=0.1.1 in /usr/local/lib/python3.10/dist-packages (from tensorflow) (0.2.0)\n",
            "Requirement already satisfied: h5py>=2.9.0 in /usr/local/lib/python3.10/dist-packages (from tensorflow) (3.12.1)\n",
            "Requirement already satisfied: libclang>=13.0.0 in /usr/local/lib/python3.10/dist-packages (from tensorflow) (18.1.1)\n",
            "Requirement already satisfied: ml-dtypes~=0.2.0 in /usr/local/lib/python3.10/dist-packages (from tensorflow) (0.2.0)\n",
            "Requirement already satisfied: numpy<2.0.0,>=1.23.5 in /usr/local/lib/python3.10/dist-packages (from tensorflow) (1.26.4)\n",
            "Requirement already satisfied: opt-einsum>=2.3.2 in /usr/local/lib/python3.10/dist-packages (from tensorflow) (3.4.0)\n",
            "Requirement already satisfied: packaging in /usr/local/lib/python3.10/dist-packages (from tensorflow) (24.2)\n",
            "Requirement already satisfied: protobuf!=4.21.0,!=4.21.1,!=4.21.2,!=4.21.3,!=4.21.4,!=4.21.5,<5.0.0dev,>=3.20.3 in /usr/local/lib/python3.10/dist-packages (from tensorflow) (4.25.5)\n",
            "Requirement already satisfied: setuptools in /usr/local/lib/python3.10/dist-packages (from tensorflow) (75.1.0)\n",
            "Requirement already satisfied: six>=1.12.0 in /usr/local/lib/python3.10/dist-packages (from tensorflow) (1.17.0)\n",
            "Requirement already satisfied: termcolor>=1.1.0 in /usr/local/lib/python3.10/dist-packages (from tensorflow) (2.5.0)\n",
            "Requirement already satisfied: typing-extensions>=3.6.6 in /usr/local/lib/python3.10/dist-packages (from tensorflow) (4.12.2)\n",
            "Requirement already satisfied: wrapt<1.15,>=1.11.0 in /usr/local/lib/python3.10/dist-packages (from tensorflow) (1.14.1)\n",
            "Requirement already satisfied: tensorflow-io-gcs-filesystem>=0.23.1 in /usr/local/lib/python3.10/dist-packages (from tensorflow) (0.37.1)\n",
            "Requirement already satisfied: grpcio<2.0,>=1.24.3 in /usr/local/lib/python3.10/dist-packages (from tensorflow) (1.68.1)\n",
            "Requirement already satisfied: tensorboard<2.16,>=2.15 in /usr/local/lib/python3.10/dist-packages (from tensorflow) (2.15.2)\n",
            "Requirement already satisfied: tensorflow-estimator<2.16,>=2.15.0 in /usr/local/lib/python3.10/dist-packages (from tensorflow) (2.15.0)\n",
            "Requirement already satisfied: keras<2.16,>=2.15.0 in /usr/local/lib/python3.10/dist-packages (from tensorflow) (2.15.0)\n",
            "Requirement already satisfied: wheel<1.0,>=0.23.0 in /usr/local/lib/python3.10/dist-packages (from astunparse>=1.6.0->tensorflow) (0.45.1)\n",
            "Requirement already satisfied: google-auth<3,>=1.6.3 in /usr/local/lib/python3.10/dist-packages (from tensorboard<2.16,>=2.15->tensorflow) (2.27.0)\n",
            "Requirement already satisfied: google-auth-oauthlib<2,>=0.5 in /usr/local/lib/python3.10/dist-packages (from tensorboard<2.16,>=2.15->tensorflow) (1.2.1)\n",
            "Requirement already satisfied: markdown>=2.6.8 in /usr/local/lib/python3.10/dist-packages (from tensorboard<2.16,>=2.15->tensorflow) (3.7)\n",
            "Requirement already satisfied: requests<3,>=2.21.0 in /usr/local/lib/python3.10/dist-packages (from tensorboard<2.16,>=2.15->tensorflow) (2.32.3)\n",
            "Requirement already satisfied: tensorboard-data-server<0.8.0,>=0.7.0 in /usr/local/lib/python3.10/dist-packages (from tensorboard<2.16,>=2.15->tensorflow) (0.7.2)\n",
            "Requirement already satisfied: werkzeug>=1.0.1 in /usr/local/lib/python3.10/dist-packages (from tensorboard<2.16,>=2.15->tensorflow) (3.1.3)\n",
            "Requirement already satisfied: cachetools<6.0,>=2.0.0 in /usr/local/lib/python3.10/dist-packages (from google-auth<3,>=1.6.3->tensorboard<2.16,>=2.15->tensorflow) (5.5.0)\n",
            "Requirement already satisfied: pyasn1-modules>=0.2.1 in /usr/local/lib/python3.10/dist-packages (from google-auth<3,>=1.6.3->tensorboard<2.16,>=2.15->tensorflow) (0.4.1)\n",
            "Requirement already satisfied: rsa<5,>=3.1.4 in /usr/local/lib/python3.10/dist-packages (from google-auth<3,>=1.6.3->tensorboard<2.16,>=2.15->tensorflow) (4.9)\n",
            "Requirement already satisfied: requests-oauthlib>=0.7.0 in /usr/local/lib/python3.10/dist-packages (from google-auth-oauthlib<2,>=0.5->tensorboard<2.16,>=2.15->tensorflow) (2.0.0)\n",
            "Requirement already satisfied: charset-normalizer<4,>=2 in /usr/local/lib/python3.10/dist-packages (from requests<3,>=2.21.0->tensorboard<2.16,>=2.15->tensorflow) (3.4.0)\n",
            "Requirement already satisfied: idna<4,>=2.5 in /usr/local/lib/python3.10/dist-packages (from requests<3,>=2.21.0->tensorboard<2.16,>=2.15->tensorflow) (3.10)\n",
            "Requirement already satisfied: urllib3<3,>=1.21.1 in /usr/local/lib/python3.10/dist-packages (from requests<3,>=2.21.0->tensorboard<2.16,>=2.15->tensorflow) (2.2.3)\n",
            "Requirement already satisfied: certifi>=2017.4.17 in /usr/local/lib/python3.10/dist-packages (from requests<3,>=2.21.0->tensorboard<2.16,>=2.15->tensorflow) (2024.8.30)\n",
            "Requirement already satisfied: MarkupSafe>=2.1.1 in /usr/local/lib/python3.10/dist-packages (from werkzeug>=1.0.1->tensorboard<2.16,>=2.15->tensorflow) (3.0.2)\n",
            "Requirement already satisfied: pyasn1<0.7.0,>=0.4.6 in /usr/local/lib/python3.10/dist-packages (from pyasn1-modules>=0.2.1->google-auth<3,>=1.6.3->tensorboard<2.16,>=2.15->tensorflow) (0.6.1)\n",
            "Requirement already satisfied: oauthlib>=3.0.0 in /usr/local/lib/python3.10/dist-packages (from requests-oauthlib>=0.7.0->google-auth-oauthlib<2,>=0.5->tensorboard<2.16,>=2.15->tensorflow) (3.2.2)\n",
            "Model: \"sequential_3\"\n",
            "_________________________________________________________________\n",
            " Layer (type)                Output Shape              Param #   \n",
            "=================================================================\n",
            " conv2d_15 (Conv2D)          (None, 48, 48, 32)        320       \n",
            "                                                                 \n",
            " batch_normalization_18 (Ba  (None, 48, 48, 32)        128       \n",
            " tchNormalization)                                               \n",
            "                                                                 \n",
            " activation_18 (Activation)  (None, 48, 48, 32)        0         \n",
            "                                                                 \n",
            " max_pooling2d_15 (MaxPooli  (None, 24, 24, 32)        0         \n",
            " ng2D)                                                           \n",
            "                                                                 \n",
            " conv2d_16 (Conv2D)          (None, 24, 24, 64)        18496     \n",
            "                                                                 \n",
            " batch_normalization_19 (Ba  (None, 24, 24, 64)        256       \n",
            " tchNormalization)                                               \n",
            "                                                                 \n",
            " activation_19 (Activation)  (None, 24, 24, 64)        0         \n",
            "                                                                 \n",
            " max_pooling2d_16 (MaxPooli  (None, 12, 12, 64)        0         \n",
            " ng2D)                                                           \n",
            "                                                                 \n",
            " conv2d_17 (Conv2D)          (None, 12, 12, 128)       73856     \n",
            "                                                                 \n",
            " batch_normalization_20 (Ba  (None, 12, 12, 128)       512       \n",
            " tchNormalization)                                               \n",
            "                                                                 \n",
            " activation_20 (Activation)  (None, 12, 12, 128)       0         \n",
            "                                                                 \n",
            " max_pooling2d_17 (MaxPooli  (None, 6, 6, 128)         0         \n",
            " ng2D)                                                           \n",
            "                                                                 \n",
            " conv2d_18 (Conv2D)          (None, 6, 6, 256)         295168    \n",
            "                                                                 \n",
            " batch_normalization_21 (Ba  (None, 6, 6, 256)         1024      \n",
            " tchNormalization)                                               \n",
            "                                                                 \n",
            " activation_21 (Activation)  (None, 6, 6, 256)         0         \n",
            "                                                                 \n",
            " max_pooling2d_18 (MaxPooli  (None, 3, 3, 256)         0         \n",
            " ng2D)                                                           \n",
            "                                                                 \n",
            " conv2d_19 (Conv2D)          (None, 3, 3, 512)         1180160   \n",
            "                                                                 \n",
            " batch_normalization_22 (Ba  (None, 3, 3, 512)         2048      \n",
            " tchNormalization)                                               \n",
            "                                                                 \n",
            " activation_22 (Activation)  (None, 3, 3, 512)         0         \n",
            "                                                                 \n",
            " max_pooling2d_19 (MaxPooli  (None, 1, 1, 512)         0         \n",
            " ng2D)                                                           \n",
            "                                                                 \n",
            " flatten_3 (Flatten)         (None, 512)               0         \n",
            "                                                                 \n",
            " dense_6 (Dense)             (None, 512)               262656    \n",
            "                                                                 \n",
            " batch_normalization_23 (Ba  (None, 512)               2048      \n",
            " tchNormalization)                                               \n",
            "                                                                 \n",
            " activation_23 (Activation)  (None, 512)               0         \n",
            "                                                                 \n",
            " dropout_3 (Dropout)         (None, 512)               0         \n",
            "                                                                 \n",
            " dense_7 (Dense)             (None, 7)                 3591      \n",
            "                                                                 \n",
            "=================================================================\n",
            "Total params: 1840263 (7.02 MB)\n",
            "Trainable params: 1837255 (7.01 MB)\n",
            "Non-trainable params: 3008 (11.75 KB)\n",
            "_________________________________________________________________\n",
            "Epoch 1/10\n",
            "2318/2318 [==============================] - 1025s 441ms/step - loss: 1.3447 - accuracy: 0.5037 - val_loss: 1.7345 - val_accuracy: 0.4290\n",
            "Epoch 2/10\n",
            "2318/2318 [==============================] - 1021s 441ms/step - loss: 0.9378 - accuracy: 0.6557 - val_loss: 1.0457 - val_accuracy: 0.6204\n",
            "Epoch 3/10\n",
            "2318/2318 [==============================] - 1018s 439ms/step - loss: 0.6964 - accuracy: 0.7535 - val_loss: 0.9675 - val_accuracy: 0.6839\n",
            "Epoch 4/10\n",
            "2318/2318 [==============================] - 1020s 440ms/step - loss: 0.4882 - accuracy: 0.8330 - val_loss: 1.6448 - val_accuracy: 0.5990\n",
            "Epoch 5/10\n",
            "2318/2318 [==============================] - 1023s 442ms/step - loss: 0.3524 - accuracy: 0.8833 - val_loss: 0.8265 - val_accuracy: 0.7339\n",
            "Epoch 6/10\n",
            "2318/2318 [==============================] - 1027s 443ms/step - loss: 0.2699 - accuracy: 0.9134 - val_loss: 0.5983 - val_accuracy: 0.8331\n",
            "Epoch 7/10\n",
            "2318/2318 [==============================] - 1019s 440ms/step - loss: 0.2223 - accuracy: 0.9301 - val_loss: 0.5067 - val_accuracy: 0.8655\n",
            "Epoch 8/10\n",
            "2318/2318 [==============================] - 1021s 441ms/step - loss: 0.1906 - accuracy: 0.9408 - val_loss: 0.9474 - val_accuracy: 0.7792\n",
            "Epoch 9/10\n",
            " 493/2318 [=====>........................] - ETA: 12:22 - loss: 0.1342 - accuracy: 0.9584"
          ]
        }
      ]
    }
  ]
}